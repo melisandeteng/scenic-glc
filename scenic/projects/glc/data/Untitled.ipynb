{
 "cells": [
  {
   "cell_type": "code",
   "execution_count": 13,
   "metadata": {},
   "outputs": [],
   "source": [
    "import pandas as pd\n",
    "import numpy as np\n",
    "from pathlib import Path\n",
    "import os"
   ]
  },
  {
   "cell_type": "code",
   "execution_count": null,
   "metadata": {},
   "outputs": [],
   "source": [
    "/network/scratch/s/sara.ebrahim-elkafrawy/observations/"
   ]
  },
  {
   "cell_type": "code",
   "execution_count": 14,
   "metadata": {},
   "outputs": [],
   "source": [
    "root = Path(os.environ[\"SLURM_TMPDIR\"])"
   ]
  },
  {
   "cell_type": "code",
   "execution_count": 15,
   "metadata": {},
   "outputs": [],
   "source": [
    "subset_file_suffix=\"train\""
   ]
  },
  {
   "cell_type": "code",
   "execution_count": 16,
   "metadata": {},
   "outputs": [],
   "source": [
    "df_fr = pd.read_csv(\n",
    "            root\n",
    "            / \"observations\"\n",
    "            / \"observations_fr_{}.csv\".format(subset_file_suffix),\n",
    "            sep=\";\",\n",
    "            index_col=\"observation_id\",\n",
    "        )\n",
    "df_us = pd.read_csv(\n",
    "    root\n",
    "    / \"observations\"\n",
    "    / \"observations_us_{}.csv\".format(subset_file_suffix),\n",
    "    sep=\";\",\n",
    "    index_col=\"observation_id\",\n",
    ")\n",
    "\n",
    "\n",
    "df = pd.concat((df_fr, df_us))\n"
   ]
  },
  {
   "cell_type": "code",
   "execution_count": 19,
   "metadata": {},
   "outputs": [
    {
     "data": {
      "text/html": [
       "<div>\n",
       "<style scoped>\n",
       "    .dataframe tbody tr th:only-of-type {\n",
       "        vertical-align: middle;\n",
       "    }\n",
       "\n",
       "    .dataframe tbody tr th {\n",
       "        vertical-align: top;\n",
       "    }\n",
       "\n",
       "    .dataframe thead th {\n",
       "        text-align: right;\n",
       "    }\n",
       "</style>\n",
       "<table border=\"1\" class=\"dataframe\">\n",
       "  <thead>\n",
       "    <tr style=\"text-align: right;\">\n",
       "      <th></th>\n",
       "      <th>latitude</th>\n",
       "      <th>longitude</th>\n",
       "      <th>species_id</th>\n",
       "      <th>subset</th>\n",
       "    </tr>\n",
       "    <tr>\n",
       "      <th>observation_id</th>\n",
       "      <th></th>\n",
       "      <th></th>\n",
       "      <th></th>\n",
       "      <th></th>\n",
       "    </tr>\n",
       "  </thead>\n",
       "  <tbody>\n",
       "    <tr>\n",
       "      <th>10297014</th>\n",
       "      <td>46.927032</td>\n",
       "      <td>4.798213</td>\n",
       "      <td>11</td>\n",
       "      <td>val</td>\n",
       "    </tr>\n",
       "    <tr>\n",
       "      <th>10610548</th>\n",
       "      <td>46.865562</td>\n",
       "      <td>4.914852</td>\n",
       "      <td>467</td>\n",
       "      <td>val</td>\n",
       "    </tr>\n",
       "    <tr>\n",
       "      <th>10545927</th>\n",
       "      <td>43.972557</td>\n",
       "      <td>4.904952</td>\n",
       "      <td>364</td>\n",
       "      <td>val</td>\n",
       "    </tr>\n",
       "    <tr>\n",
       "      <th>10267693</th>\n",
       "      <td>44.429108</td>\n",
       "      <td>4.179069</td>\n",
       "      <td>805</td>\n",
       "      <td>val</td>\n",
       "    </tr>\n",
       "    <tr>\n",
       "      <th>10158346</th>\n",
       "      <td>47.187496</td>\n",
       "      <td>-0.312558</td>\n",
       "      <td>348</td>\n",
       "      <td>val</td>\n",
       "    </tr>\n",
       "    <tr>\n",
       "      <th>...</th>\n",
       "      <td>...</td>\n",
       "      <td>...</td>\n",
       "      <td>...</td>\n",
       "      <td>...</td>\n",
       "    </tr>\n",
       "    <tr>\n",
       "      <th>22067622</th>\n",
       "      <td>45.026695</td>\n",
       "      <td>-92.752960</td>\n",
       "      <td>10776</td>\n",
       "      <td>val</td>\n",
       "    </tr>\n",
       "    <tr>\n",
       "      <th>22067688</th>\n",
       "      <td>41.520172</td>\n",
       "      <td>-92.077644</td>\n",
       "      <td>4999</td>\n",
       "      <td>val</td>\n",
       "    </tr>\n",
       "    <tr>\n",
       "      <th>22068163</th>\n",
       "      <td>37.211212</td>\n",
       "      <td>-120.842026</td>\n",
       "      <td>5687</td>\n",
       "      <td>val</td>\n",
       "    </tr>\n",
       "    <tr>\n",
       "      <th>22068165</th>\n",
       "      <td>30.891344</td>\n",
       "      <td>-97.712180</td>\n",
       "      <td>4917</td>\n",
       "      <td>val</td>\n",
       "    </tr>\n",
       "    <tr>\n",
       "      <th>22068174</th>\n",
       "      <td>37.206974</td>\n",
       "      <td>-122.067154</td>\n",
       "      <td>5309</td>\n",
       "      <td>val</td>\n",
       "    </tr>\n",
       "  </tbody>\n",
       "</table>\n",
       "<p>40080 rows × 4 columns</p>\n",
       "</div>"
      ],
      "text/plain": [
       "                 latitude   longitude  species_id subset\n",
       "observation_id                                          \n",
       "10297014        46.927032    4.798213          11    val\n",
       "10610548        46.865562    4.914852         467    val\n",
       "10545927        43.972557    4.904952         364    val\n",
       "10267693        44.429108    4.179069         805    val\n",
       "10158346        47.187496   -0.312558         348    val\n",
       "...                   ...         ...         ...    ...\n",
       "22067622        45.026695  -92.752960       10776    val\n",
       "22067688        41.520172  -92.077644        4999    val\n",
       "22068163        37.211212 -120.842026        5687    val\n",
       "22068165        30.891344  -97.712180        4917    val\n",
       "22068174        37.206974 -122.067154        5309    val\n",
       "\n",
       "[40080 rows x 4 columns]"
      ]
     },
     "execution_count": 19,
     "metadata": {},
     "output_type": "execute_result"
    }
   ],
   "source": [
    "df[df[\"subset\"]==\"val\"]"
   ]
  },
  {
   "cell_type": "code",
   "execution_count": null,
   "metadata": {},
   "outputs": [],
   "source": [
    "[]"
   ]
  }
 ],
 "metadata": {
  "kernelspec": {
   "display_name": "Python 3 (GLC-tf)",
   "language": "python",
   "name": "glc-tf"
  },
  "language_info": {
   "codemirror_mode": {
    "name": "ipython",
    "version": 3
   },
   "file_extension": ".py",
   "mimetype": "text/x-python",
   "name": "python",
   "nbconvert_exporter": "python",
   "pygments_lexer": "ipython3",
   "version": "3.9.5"
  }
 },
 "nbformat": 4,
 "nbformat_minor": 4
}
